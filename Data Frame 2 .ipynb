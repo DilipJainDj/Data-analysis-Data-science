{
 "cells": [
  {
   "cell_type": "code",
   "execution_count": null,
   "metadata": {},
   "outputs": [],
   "source": [
    "import pandas as pd"
   ]
  },
  {
   "cell_type": "code",
   "execution_count": null,
   "metadata": {},
   "outputs": [],
   "source": [
    "df = pd.read_csv(\"employees.csv\")"
   ]
  },
  {
   "cell_type": "code",
   "execution_count": null,
   "metadata": {},
   "outputs": [],
   "source": [
    "df.head(3)"
   ]
  },
  {
   "cell_type": "code",
   "execution_count": null,
   "metadata": {},
   "outputs": [],
   "source": [
    "df.info()"
   ]
  },
  {
   "cell_type": "code",
   "execution_count": null,
   "metadata": {},
   "outputs": [],
   "source": [
    "df = pd.read_csv(\"employees.csv\",parse_dates=[\"Start Date\" , \"Last Login Time\"]) # the parse_dates method is used to remove the below two steps and it take the list argumgent in form of string or name of column\n",
    "#df[\"Start Date\"]=pd.to_datetime(df[\"Start Date\"])\n",
    "#df[\"Last Login Time\"]=pd.to_datetime(df[\"Last Login Time\"])\n",
    "df[\"Senior Management\"]=df[\"Senior Management\"].astype(\"bool\")\n",
    "df[\"Gender\"]=df[\"Gender\"].astype(\"category\")"
   ]
  },
  {
   "cell_type": "code",
   "execution_count": null,
   "metadata": {},
   "outputs": [],
   "source": [
    "df.info()\n",
    "48.9/62.6 #we reduced the approx 22% of data\n"
   ]
  },
  {
   "cell_type": "markdown",
   "metadata": {},
   "source": [
    "#  Filter A DataFrame Based on a Condition"
   ]
  },
  {
   "cell_type": "code",
   "execution_count": null,
   "metadata": {},
   "outputs": [],
   "source": [
    "df[df[\"Gender\"] ==\"Male\"].head(3)\n",
    "#assigning over code for getting only True Values\n",
    "#for comparision always remeber to use comparision opretor"
   ]
  },
  {
   "cell_type": "code",
   "execution_count": null,
   "metadata": {},
   "outputs": [],
   "source": [
    "#df[df[\"Team\"] ==\"Finance\"].head(3)\n",
    "#or\n",
    "mask=df[\"Team\"] ==\"Finance\"\n",
    "df[mask].head(3)"
   ]
  },
  {
   "cell_type": "code",
   "execution_count": null,
   "metadata": {},
   "outputs": [],
   "source": [
    "import pandas as pd\n"
   ]
  },
  {
   "cell_type": "code",
   "execution_count": null,
   "metadata": {},
   "outputs": [],
   "source": [
    "df = pd.read_csv(\"employees.csv\",parse_dates=[\"Start Date\" , \"Last Login Time\"]) # the parse_dates method is used to remove the below two steps and it take the list argumgent in form of string or name of column\n",
    "\n",
    "df[\"Senior Management\"]=df[\"Senior Management\"].astype(\"bool\")\n",
    "df[\"Gender\"]=df[\"Gender\"].astype(\"category\")\n",
    "df.head(3)"
   ]
  },
  {
   "cell_type": "code",
   "execution_count": null,
   "metadata": {},
   "outputs": [],
   "source": [
    "#df[df[\"Team\"] ==\"Finance\"].head(3)\n",
    "#or\n",
    "mask=df[\"Team\"] ==\"Finance\"\n",
    "df[mask].head(3)"
   ]
  },
  {
   "cell_type": "code",
   "execution_count": null,
   "metadata": {},
   "outputs": [],
   "source": [
    "df.info()"
   ]
  },
  {
   "cell_type": "code",
   "execution_count": null,
   "metadata": {},
   "outputs": [],
   "source": [
    "mask=df[\"Team\"] !=\"Marketing\"\n",
    "df[mask].head(3)"
   ]
  },
  {
   "cell_type": "code",
   "execution_count": null,
   "metadata": {},
   "outputs": [],
   "source": [
    "df[df[\"Salary\"]> 11000].head(3)"
   ]
  },
  {
   "cell_type": "code",
   "execution_count": null,
   "metadata": {},
   "outputs": [],
   "source": [
    "mask=df[\"Start Date\"] <=\"1985-01-01\"\n",
    "df[mask].head(3)"
   ]
  },
  {
   "cell_type": "markdown",
   "metadata": {},
   "source": [
    "# Filter with More than One Condition(AND)"
   ]
  },
  {
   "cell_type": "code",
   "execution_count": null,
   "metadata": {},
   "outputs": [],
   "source": [
    "df = pd.read_csv(\"employees.csv\",parse_dates=[\"Start Date\" , \"Last Login Time\"]) # the parse_dates method is used to remove the below two steps and it take the list argumgent in form of string or name of column\n",
    "\n",
    "df[\"Senior Management\"]=df[\"Senior Management\"].astype(\"bool\")\n",
    "df[\"Gender\"]=df[\"Gender\"].astype(\"category\")\n",
    "df.head(3)"
   ]
  },
  {
   "cell_type": "code",
   "execution_count": null,
   "metadata": {},
   "outputs": [],
   "source": [
    "mask1 = df[\"Gender\"]==\"Male\"\n",
    "mask2 = df[\"Team\"]==\"Marketing\"\n",
    "df[mask1 & mask2].head()"
   ]
  },
  {
   "cell_type": "markdown",
   "metadata": {},
   "source": [
    "# comparing using OR(|) operator"
   ]
  },
  {
   "cell_type": "code",
   "execution_count": null,
   "metadata": {},
   "outputs": [],
   "source": [
    "mask1 = df[\"Senior Management\"]\n",
    "mask2 =df[\"Start Date\"] < \"1990-01-01\"\n",
    "df[mask1 | mask2].head()"
   ]
  },
  {
   "cell_type": "code",
   "execution_count": null,
   "metadata": {},
   "outputs": [],
   "source": [
    "df[\"First Name\"]==\"Robert\""
   ]
  },
  {
   "cell_type": "code",
   "execution_count": null,
   "metadata": {},
   "outputs": [],
   "source": [
    "mask1=df[\"First Name\"] == \"Robert\"\n",
    "mask2 =df[\"Team\"]==\"Client Services\"\n",
    "mask3 =df[\"Start Date\"] >\"2016-06-01\"\n",
    "df[(mask1 & mask2) | mask3]"
   ]
  },
  {
   "cell_type": "markdown",
   "metadata": {},
   "source": [
    "# The .isin() Method"
   ]
  },
  {
   "cell_type": "code",
   "execution_count": null,
   "metadata": {},
   "outputs": [],
   "source": [
    "\n",
    "import pandas as pd\n",
    "df = pd.read_csv(\"employees.csv\",parse_dates=[\"Start Date\" , \"Last Login Time\"]) # the parse_dates method is used to remove the below two steps and it take the list argumgent in form of string or name of column\n",
    "\n",
    "df[\"Senior Management\"]=df[\"Senior Management\"].astype(\"bool\")\n",
    "df[\"Gender\"]=df[\"Gender\"].astype(\"category\")\n",
    "df.head(3)\n"
   ]
  },
  {
   "cell_type": "code",
   "execution_count": null,
   "metadata": {},
   "outputs": [],
   "source": [
    "mask1 = df[\"Team\"]==\"Legal\"\n",
    "mask2 = df[\"Team\"] ==\"Sales\"\n",
    "mask3 =df[\"Team\"] == \"Product\"\n",
    "df[mask1 | mask2 | mask3].head()"
   ]
  },
  {
   "cell_type": "code",
   "execution_count": null,
   "metadata": {},
   "outputs": [],
   "source": [
    "mask=df[\"Team\"].isin([\"Legal\" , \"Sales\" , \"Product\"])\n",
    "df[mask].head()"
   ]
  },
  {
   "cell_type": "code",
   "execution_count": null,
   "metadata": {},
   "outputs": [],
   "source": [
    "import pandas as pd"
   ]
  },
  {
   "cell_type": "code",
   "execution_count": null,
   "metadata": {},
   "outputs": [],
   "source": [
    "df = pd.read_csv(\"employees.csv\",parse_dates=[\"Start Date\" , \"Last Login Time\"]) # the parse_dates method is used to remove the below two steps and it take the list argumgent in form of string or name of column\n",
    "\n",
    "df[\"Senior Management\"]=df[\"Senior Management\"].astype(\"bool\")\n",
    "df[\"Gender\"]=df[\"Gender\"].astype(\"category\")\n",
    "df.head(3)\n"
   ]
  },
  {
   "cell_type": "code",
   "execution_count": null,
   "metadata": {},
   "outputs": [],
   "source": [
    "mask =df[\"Team\"].isnull()"
   ]
  },
  {
   "cell_type": "code",
   "execution_count": null,
   "metadata": {},
   "outputs": [],
   "source": [
    "df[mask].head()"
   ]
  },
  {
   "cell_type": "code",
   "execution_count": null,
   "metadata": {},
   "outputs": [],
   "source": [
    "mask = df[\"Team\"].isnull()#gives false here\n",
    "df[mask].head()"
   ]
  },
  {
   "cell_type": "code",
   "execution_count": null,
   "metadata": {},
   "outputs": [],
   "source": [
    "mask = df[\"Gender\"].notnull()# gives true values here and also remove the nan values\n",
    "\n",
    "\n",
    "df[mask].head()"
   ]
  },
  {
   "cell_type": "markdown",
   "metadata": {},
   "source": [
    "# .between() Method"
   ]
  },
  {
   "cell_type": "code",
   "execution_count": null,
   "metadata": {},
   "outputs": [],
   "source": [
    "df[df[\"Salary\"].between(60000,70000)].head()"
   ]
  },
  {
   "cell_type": "code",
   "execution_count": null,
   "metadata": {},
   "outputs": [],
   "source": [
    "\n",
    "import pandas as pd\n",
    "df = pd.read_csv(\"employees.csv\",parse_dates=[\"Start Date\" , \"Last Login Time\"]) # the parse_dates method is used to remove the below two steps and it take the list argumgent in form of string or name of column\n",
    "\n",
    "df[\"Senior Management\"]=df[\"Senior Management\"].astype(\"bool\")\n",
    "df[\"Gender\"]=df[\"Gender\"].astype(\"category\")\n",
    "df.head(3)\n"
   ]
  },
  {
   "cell_type": "code",
   "execution_count": null,
   "metadata": {},
   "outputs": [],
   "source": [
    "df.info()"
   ]
  },
  {
   "cell_type": "code",
   "execution_count": null,
   "metadata": {},
   "outputs": [],
   "source": [
    "df[df[\"Bonus %\"].between(2.0 , 5.0)].head()"
   ]
  },
  {
   "cell_type": "code",
   "execution_count": null,
   "metadata": {},
   "outputs": [],
   "source": [
    "df[df[\"Start Date\"].between(\"1991-01-01\",\"1992-01-01\")].head()"
   ]
  },
  {
   "cell_type": "code",
   "execution_count": null,
   "metadata": {},
   "outputs": [],
   "source": [
    "df[df[\"Last Login Time\"].between(\"08:30AM\",\"12:00PM\")].head()"
   ]
  },
  {
   "cell_type": "markdown",
   "metadata": {},
   "source": [
    "# The .duplicate() Method"
   ]
  },
  {
   "cell_type": "code",
   "execution_count": null,
   "metadata": {},
   "outputs": [],
   "source": [
    "df = pd.read_csv(\"employees.csv\",parse_dates=[\"Start Date\" , \"Last Login Time\"]) # the parse_dates method is used to remove the below two steps and it take the list argumgent in form of string or name of column\n",
    "\n",
    "df[\"Senior Management\"]=df[\"Senior Management\"].astype(\"bool\")\n",
    "df[\"Gender\"]=df[\"Gender\"].astype(\"category\")\n",
    "df.sort_values(\"First Name\",inplace=True)\n",
    "df.head(3)"
   ]
  },
  {
   "cell_type": "code",
   "execution_count": null,
   "metadata": {},
   "outputs": [],
   "source": [
    "df[\"First Name\"].duplicated().head()#default parameter is(subset=None, keep='first')\n",
    "#all the first value that is  come first  is False and all other are True\n",
    "#You can also change the Default parameter that is passing by default "
   ]
  },
  {
   "cell_type": "code",
   "execution_count": null,
   "metadata": {},
   "outputs": [],
   "source": [
    "mask = ~df[\"First Name\"].duplicated(keep = False)\n",
    "df[mask].head()\n",
    "# all the member that is duplicat is showing by this command\n",
    "#by using the tiled symbol we change the functionalty of this command  and now it is showing only the unique vales\n",
    "# ~=tiled symbol that is used for negation"
   ]
  },
  {
   "cell_type": "markdown",
   "metadata": {},
   "source": [
    "# The .drop_duplicates() Method"
   ]
  },
  {
   "cell_type": "code",
   "execution_count": null,
   "metadata": {},
   "outputs": [],
   "source": [
    "len(df)"
   ]
  },
  {
   "cell_type": "code",
   "execution_count": null,
   "metadata": {},
   "outputs": [],
   "source": [
    "len(df.drop_duplicates()) #If we want to remove the duplicates in our values than\n",
    "#We have to change these parameter that is bydefault (subset=None, keep='first', inplace=False)\n",
    "#subset contain the list arguments"
   ]
  },
  {
   "cell_type": "code",
   "execution_count": null,
   "metadata": {},
   "outputs": [],
   "source": [
    "df.drop_duplicates(subset  = [\"First Name\"] , keep  =False).head() # only unique values is showing"
   ]
  },
  {
   "cell_type": "code",
   "execution_count": null,
   "metadata": {},
   "outputs": [],
   "source": [
    "df.drop_duplicates(subset=[\"Team\"],keep  = False) \n",
    "# all the teams is coming more than one so nothing is showing in the list"
   ]
  },
  {
   "cell_type": "code",
   "execution_count": null,
   "metadata": {},
   "outputs": [],
   "source": [
    "df.drop_duplicates(subset=[\"First Name\" , \"Team\"] , inplace = True)\n",
    "#The above code is used to differentiate  both name  and team"
   ]
  },
  {
   "cell_type": "code",
   "execution_count": null,
   "metadata": {},
   "outputs": [],
   "source": [
    "df.head(3)"
   ]
  },
  {
   "cell_type": "code",
   "execution_count": null,
   "metadata": {},
   "outputs": [],
   "source": [
    "len(df) # before len is1000"
   ]
  },
  {
   "cell_type": "markdown",
   "metadata": {},
   "source": [
    "# The .unique() and .nunique() Methods"
   ]
  },
  {
   "cell_type": "code",
   "execution_count": null,
   "metadata": {},
   "outputs": [],
   "source": [
    "df[\"Gender\"].unique()"
   ]
  },
  {
   "cell_type": "code",
   "execution_count": null,
   "metadata": {},
   "outputs": [],
   "source": [
    "df[\"Team\"].unique()"
   ]
  },
  {
   "cell_type": "code",
   "execution_count": null,
   "metadata": {},
   "outputs": [],
   "source": [
    "len(df[\"Team\"].unique()) # counting the nan value"
   ]
  },
  {
   "cell_type": "code",
   "execution_count": null,
   "metadata": {},
   "outputs": [],
   "source": [
    "df[\"Team\"].nunique() \n",
    "#not counting the nan values  and also the paramenter is passed by default(axis=0, dropna=True)"
   ]
  },
  {
   "cell_type": "code",
   "execution_count": null,
   "metadata": {},
   "outputs": [],
   "source": []
  }
 ],
 "metadata": {
  "kernelspec": {
   "display_name": "Python 3",
   "language": "python",
   "name": "python3"
  },
  "language_info": {
   "codemirror_mode": {
    "name": "ipython",
    "version": 3
   },
   "file_extension": ".py",
   "mimetype": "text/x-python",
   "name": "python",
   "nbconvert_exporter": "python",
   "pygments_lexer": "ipython3",
   "version": "3.6.6"
  }
 },
 "nbformat": 4,
 "nbformat_minor": 2
}
